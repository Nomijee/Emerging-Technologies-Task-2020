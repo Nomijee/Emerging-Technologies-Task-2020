{
 "cells": [
  {
   "cell_type": "markdown",
   "metadata": {},
   "source": [
    "# Tasks\n",
    "\n",
    "***"
   ]
  },
  {
   "cell_type": "markdown",
   "metadata": {},
   "source": [
    "These are my solution to the Tasks assessment. The author is Muhammad Noman Junaid (G00351754@gmit.ie).\n",
    "\n",
    "***\n"
   ]
  },
  {
   "cell_type": "markdown",
   "metadata": {},
   "source": [
    "#### Task: Calculate a Sq. Root\n",
    "***\n",
    "\n",
    "We can calculate th Sq. Root of a number using Newton's Method [1,2].\n",
    "\n",
    "To find the Square Root of $z$ of a numbe $x$, we can iterate using the folllowing equation.\n",
    "\n",
    "$$ z_{next} = z - \\frac{z^2 -x}{2z}$$\n",
    "\n",
    "\n",
    "\n",
    "\n",
    "\n",
    "[1] A Tour Of Go; Excercise:Loops and Function; https://tour.golang.org/flowcontrol/8\n",
    "\n",
    "[2] Newton's Method; https://en.wikipedia.org/wiki/Newton%27s_method"
   ]
  },
  {
   "cell_type": "code",
   "execution_count": 1,
   "metadata": {},
   "outputs": [],
   "source": [
    "   \n",
    "def sqrt(x): \n",
    "    \"\"\"\n",
    "    A function to calculate the Square root of a number x.\n",
    "    \"\"\"\n",
    "    # Initial guess for the Square root z\n",
    "    z =  x / 2\n",
    "    # Loop  until we are happy with accuracy.\n",
    "    while abs (x - (z * z)) > 0.000001:\n",
    "        # Calculate a better guessfor the Square root.\n",
    "        z -= (z*z -x) / (2 * z)\n",
    "        #Return the  (approximate) the square root of x.\n",
    "    return z"
   ]
  },
  {
   "cell_type": "markdown",
   "metadata": {},
   "source": [
    "##### Tests of the function .\n",
    "\n",
    "Here we test the function with some known values."
   ]
  },
  {
   "cell_type": "code",
   "execution_count": 2,
   "metadata": {},
   "outputs": [
    {
     "data": {
      "text/plain": [
       "10.000000000107446"
      ]
     },
     "execution_count": 2,
     "metadata": {},
     "output_type": "execute_result"
    }
   ],
   "source": [
    "# Test the funtion with sq. rootiing of 100.\n",
    "sqrt(100)"
   ]
  },
  {
   "cell_type": "code",
   "execution_count": 3,
   "metadata": {},
   "outputs": [
    {
     "data": {
      "text/plain": [
       "1.4142135623746899"
      ]
     },
     "execution_count": 3,
     "metadata": {},
     "output_type": "execute_result"
    }
   ],
   "source": [
    "# Test the funtion with sq. rootiing of 2.\n",
    "sqrt(2)"
   ]
  },
  {
   "cell_type": "code",
   "execution_count": 4,
   "metadata": {},
   "outputs": [
    {
     "data": {
      "text/plain": [
       "1.4142135623730951"
      ]
     },
     "execution_count": 4,
     "metadata": {},
     "output_type": "execute_result"
    }
   ],
   "source": [
    "import math \n",
    "math.sqrt(2)"
   ]
  },
  {
   "cell_type": "code",
   "execution_count": null,
   "metadata": {},
   "outputs": [],
   "source": []
  }
 ],
 "metadata": {
  "kernelspec": {
   "display_name": "Python 3",
   "language": "python",
   "name": "python3"
  },
  "language_info": {
   "codemirror_mode": {
    "name": "ipython",
    "version": 3
   },
   "file_extension": ".py",
   "mimetype": "text/x-python",
   "name": "python",
   "nbconvert_exporter": "python",
   "pygments_lexer": "ipython3",
   "version": "3.8.3"
  }
 },
 "nbformat": 4,
 "nbformat_minor": 4
}
