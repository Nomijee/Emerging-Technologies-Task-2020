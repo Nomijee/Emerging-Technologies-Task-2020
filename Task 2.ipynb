{
 "cells": [
  {
   "cell_type": "markdown",
   "metadata": {},
   "source": [
    "# Tasks 2\n",
    "The Chi-squared test for independence is a statistical hypothesis test like a t-test. It is used to analyse whether two categorical variables are independent.The Wikipedia article on the test for independance gives the table below as an example, stating the Chi-squared value based on it is approximately 24.6. The objective is to use scipy.stats and leverage the Chi-squared test for independence, to verify the given stastical values and calculate the associated p value. \n",
    "\n",
    "| | A | B | C | D | total |\n",
    "| --- | --- | --- | --- | --- | --- |\n",
    "|White collar| 90 | 60 | 104 | 95 | 349 |\n",
    "|Blue collar| 30 | 50 | 51 | 20 | 151 |\n",
    "|No collar| 30 | 40 | 45 | 35 | 150 |\n",
    "|Total | 150 | 150 | 200 | 150 | 650 |\n",
    "\n",
    "***"
   ]
  },
  {
   "cell_type": "markdown",
   "metadata": {},
   "source": [
    "The author is Muhammad Noman Junaid (G00351754@gmit.ie)."
   ]
  },
  {
   "cell_type": "markdown",
   "metadata": {},
   "source": [
    "### Research \n",
    "The Chi Square statistic is commonly used for testing relationships between categorical variables. \n",
    " \n",
    "There are basically two types of random variables and they yield two types of data: numerical and categorical.\n",
    "A chi square statistic is used to investigate whether distributions of categorical variables differ from one another. Basically categorical variable yield data in the categories and numerical variables yield data in numerical form.The table below may help you see the differences between these two variables.\n",
    "\n",
    "|  Data Types |        Question Type     |    Response    |\n",
    "| ----------- | ------------------------ | -------------- |\n",
    "| Catagorical |  What is your Sex?       | Male or Female |\n",
    "| Numerical   | How many cars you have ? |    2 or 3      |\n",
    "\n",
    "\n",
    "[1][https://math.hws.edu/javamath/ryan/ChiSquare.html#:~:text=Calculate%20the%20chi%20square%20statistic,E)2%20%2F%20E%20%5D.\n",
    "\n",
    "A chi-squared test, also written as χ2 test, is a statistical hypothesis test that is valid to perform when the test statistic is chi-squared distributed under the null hypothesis, specifically Pearson's chi-squared test and variants thereof. Pearson's chi-squared test is used to determine whether there is a statistically significant difference between the expected frequencies and the observed frequencies in one or more categories of a contingency table.\n",
    "[2]https://en.wikipedia.org/wiki/Chi-squared_test\n",
    "\n",
    " \n",
    "### Steps for doing chi-Square\n",
    "- state our hypotheses. \n",
    "- Lay the data out in a table.\n",
    "- Add up rows and columns.\n",
    "- Calculate \"Expected Value\" for each entry by multiply each row total by each column total and divide by the overall total.\n",
    "- use formula  $\\frac{(O−E)^2}{E}$  where\n",
    " O = Observed (actual) value\n",
    " E = Expected value\n",
    " \n",
    " p-value = degrees of freedom and expected table\n",
    " \n",
    "- Now add up those calculated values\n",
    " \n",
    " \n"
   ]
  },
  {
   "cell_type": "code",
   "execution_count": 2,
   "metadata": {},
   "outputs": [
    {
     "name": "stdout",
     "output_type": "stream",
     "text": [
      "Chi2 value is: 24.5712028585826\n",
      "p value is : 0.0004098425861096696\n",
      "Dependent (reject H0)\n"
     ]
    }
   ],
   "source": [
    "from scipy.stats import chi2_contingency \n",
    "  \n",
    "# defining the table \n",
    "data = [[90, 60, 104, 95], [30, 50, 51, 20], [30, 40, 45, 35]] \n",
    "Chi2, p, dof, expected = chi2_contingency(data) \n",
    "  \n",
    "# interpret p-value \n",
    "alpha = 0.1\n",
    "\n",
    "# Printing the Chi-Squared-Value\n",
    "print(\"Chi2 value is:\", Chi2)\n",
    "# Printing the p-Value\n",
    "print(\"p value is : \" + str(p)) \n",
    "if p <= alpha: \n",
    "    print('Dependent (reject H0)') \n",
    "else: \n",
    "    print('Independent (H0 holds true)')\n",
    "\n",
    "\n",
    "\n"
   ]
  },
  {
   "cell_type": "code",
   "execution_count": null,
   "metadata": {},
   "outputs": [],
   "source": []
  },
  {
   "cell_type": "code",
   "execution_count": null,
   "metadata": {},
   "outputs": [],
   "source": []
  }
 ],
 "metadata": {
  "kernelspec": {
   "display_name": "Python 3",
   "language": "python",
   "name": "python3"
  },
  "language_info": {
   "codemirror_mode": {
    "name": "ipython",
    "version": 3
   },
   "file_extension": ".py",
   "mimetype": "text/x-python",
   "name": "python",
   "nbconvert_exporter": "python",
   "pygments_lexer": "ipython3",
   "version": "3.8.3"
  }
 },
 "nbformat": 4,
 "nbformat_minor": 4
}
