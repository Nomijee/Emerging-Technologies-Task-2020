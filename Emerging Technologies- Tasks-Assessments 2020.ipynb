{
 "cells": [
  {
   "cell_type": "markdown",
   "metadata": {},
   "source": [
    "# Tasks 1\n",
    "Write a Python function called sqrt2 that calculates and prints to the screen the square root of 2 to 100 decimal places. Your code should not depend on any module from the standard library1 or otherwise. You should research the task first and include references and a description of your algorithm\n",
    "***"
   ]
  },
  {
   "cell_type": "markdown",
   "metadata": {},
   "source": [
    "The author is Muhammad Noman Junaid (G00351754@gmit.ie).\n",
    "\n",
    "***\n"
   ]
  },
  {
   "cell_type": "markdown",
   "metadata": {},
   "source": [
    "#### Task: Calculate a Sq. Root\n",
    "***\n",
    "\n",
    "We can calculate th Sq. Root of a number using Newton's Method [1,2].\n",
    "\n",
    "To find the Square Root of $z$ of a numbe $x$, we can iterate using the folllowing equation.\n",
    "\n",
    "$$ z_{next} = z - \\frac{z^2 -x}{2z}$$\n",
    "\n",
    "\n",
    "\n",
    "\n",
    "\n",
    "[1] A Tour Of Go; Excercise:Loops and Function; https://tour.golang.org/flowcontrol/8\n",
    "\n",
    "[2] Newton's Method; https://en.wikipedia.org/wiki/Newton%27s_method"
   ]
  },
  {
   "cell_type": "code",
   "execution_count": 1,
   "metadata": {},
   "outputs": [],
   "source": [
    "   \n",
    "def sqrt(x): \n",
    "    \"\"\"\n",
    "    A function to calculate the Square root of a number x.\n",
    "    \"\"\"\n",
    "    # Initial guess for the Square root z\n",
    "    z =  x / 2\n",
    "    # Loop  until we are happy with accuracy.\n",
    "    while abs (x - (z * z)) > 0.000001:\n",
    "        # Calculate a better guessfor the Square root.\n",
    "        z -= (z*z -x) / (2 * z)\n",
    "        #Return the  (approximate) the square root of x.\n",
    "    return z"
   ]
  },
  {
   "cell_type": "markdown",
   "metadata": {},
   "source": [
    "##### Tests of the function .\n",
    "\n",
    "Here we test the function with some known values."
   ]
  },
  {
   "cell_type": "code",
   "execution_count": 2,
   "metadata": {},
   "outputs": [
    {
     "data": {
      "text/plain": [
       "10.000000000107446"
      ]
     },
     "execution_count": 2,
     "metadata": {},
     "output_type": "execute_result"
    }
   ],
   "source": [
    "# Test the funtion with sq. rootiing of 100.\n",
    "sqrt(100)"
   ]
  },
  {
   "cell_type": "code",
   "execution_count": 3,
   "metadata": {},
   "outputs": [
    {
     "data": {
      "text/plain": [
       "1.4142135623746899"
      ]
     },
     "execution_count": 3,
     "metadata": {},
     "output_type": "execute_result"
    }
   ],
   "source": [
    "# Test the funtion with sq. rootiing of 2.\n",
    "sqrt(2)"
   ]
  },
  {
   "cell_type": "code",
   "execution_count": 10,
   "metadata": {},
   "outputs": [
    {
     "data": {
      "text/plain": [
       "1.4142135623730951"
      ]
     },
     "execution_count": 10,
     "metadata": {},
     "output_type": "execute_result"
    }
   ],
   "source": [
    "import math # Test the funtion with sq. rootiing of 100.\n",
    "sqrt(100)\n",
    "math.sqrt(2)"
   ]
  },
  {
   "cell_type": "code",
   "execution_count": 14,
   "metadata": {},
   "outputs": [],
   "source": [
    "def sqrt(x): \n",
    "    \"\"\"\n",
    "    A function to calculate the Square root of a number x.\n",
    "    \"\"\"\n",
    "    # Initial guess for the Square root z\n",
    "    z =  x / 2\n",
    "    # Loop  until we are happy with accuracy.\n",
    "    while abs (x - (z * z)) > 0.000001:\n",
    "        # Calculate a better guessfor the Square root.\n",
    "        z -= (z*z -x) / (2 * z)\n",
    "        #Return the  (approximate) the square root of x.\n",
    "    return z"
   ]
  },
  {
   "cell_type": "code",
   "execution_count": 15,
   "metadata": {},
   "outputs": [
    {
     "data": {
      "text/plain": [
       "10.000000000107446"
      ]
     },
     "execution_count": 15,
     "metadata": {},
     "output_type": "execute_result"
    }
   ],
   "source": [
    "# Test the funtion with sq. rootiing of 100.\n"
   ]
  },
  {
   "cell_type": "code",
   "execution_count": 23,
   "metadata": {},
   "outputs": [
    {
     "name": "stdout",
     "output_type": "stream",
     "text": [
      "1.4142135623746898698271934335934929549694061279296875000000000000000000000000000000000000000000000000\n"
     ]
    }
   ],
   "source": [
    "sqrt(100)\n",
    "answer = format(sqrt(find_square_root_of), ',.100f')\n",
    "print(answer)"
   ]
  },
  {
   "cell_type": "code",
   "execution_count": 1,
   "metadata": {},
   "outputs": [
    {
     "name": "stdout",
     "output_type": "stream",
     "text": [
      "1.4142135623730950488016887242096980785696718753769480731766797379907324784621070388503875343276415727\n"
     ]
    }
   ],
   "source": [
    "x = 2 * 10 ** 200\n",
    "\n",
    "r = x\n",
    "\n",
    "def test_diffs(x, r):\n",
    "    d0 = abs(x - r**2)\n",
    "    dm = abs(x - (r-1)**2)\n",
    "    dp = abs(x - (r+1)**2)\n",
    "    minimised = d0 <= dm and d0 <= dp\n",
    "    below_min = dp < dm\n",
    "    return minimised, below_min\n",
    "\n",
    "while True:\n",
    "    oldr = r\n",
    "    r = (r + x // r) // 2\n",
    "\n",
    "    minimised, below_min = test_diffs(x, r)\n",
    "    if minimised:\n",
    "        break\n",
    "\n",
    "    if r == oldr:\n",
    "        if below_min:\n",
    "            r += 1\n",
    "        else:\n",
    "            r -= 1\n",
    "        minimised, _ = test_diffs(x, r)\n",
    "        if minimised:\n",
    "            break\n",
    "\n",
    "print(f'{r // 10**100}.{r % 10**100:0100d}')"
   ]
  },
  {
   "cell_type": "markdown",
   "metadata": {},
   "source": [
    "# Tasks 2\n",
    "The Chi-squared test for independence is a statistical hypothesis test like a t-test. It is used to analyse whether two categorical variables are independent.The Wikipedia article on the test for independance gives the table below as an example, stating the Chi-squared value based on it is approximately 24.6. The objective is to use scipy.stats and leverage the Chi-squared test for independence, to verify the given stastical values and calculate the associated p value. \n",
    "\n",
    "| | A | B | C | D | total |\n",
    "| --- | --- | --- | --- | --- | --- |\n",
    "|White collar| 90 | 60 | 104 | 95 | 349 |\n",
    "|Blue collar| 30 | 50 | 51 | 20 | 151 |\n",
    "|No collar| 30 | 40 | 45 | 35 | 150 |\n",
    "|Total | 150 | 150 | 200 | 150 | 650 |\n",
    "\n",
    "***"
   ]
  },
  {
   "cell_type": "markdown",
   "metadata": {},
   "source": [
    "The author is Muhammad Noman Junaid (G00351754@gmit.ie)."
   ]
  },
  {
   "cell_type": "markdown",
   "metadata": {},
   "source": [
    " ###Research \n",
    "The Chi Square statistic is commonly used for testing relationships between categorical variables. \n",
    " \n",
    "There are basically two types of random variables and they yield two types of data: numerical and categorical.\n",
    "A chi square statistic is used to investigate whether distributions of categorical variables differ from one another. Basically categorical variable yield data in the categories and numerical variables yield data in numerical form.The table below may help you see the differences between these two variables.\n",
    "\n",
    "|  Data Types |        Question Type     |    Response    |\n",
    "| ----------- | ------------------------ | -------------- |\n",
    "| Catagorical |  What is your Sex?       | Male or Female |\n",
    "| Numerical   | How many cars you have ? |    2 or 3      |\n",
    "\n",
    "\n",
    "[1][https://math.hws.edu/javamath/ryan/ChiSquare.html#:~:text=Calculate%20the%20chi%20square%20statistic,E)2%20%2F%20E%20%5D.\n",
    "\n",
    "A chi-squared test, also written as χ2 test, is a statistical hypothesis test that is valid to perform when the test statistic is chi-squared distributed under the null hypothesis, specifically Pearson's chi-squared test and variants thereof. Pearson's chi-squared test is used to determine whether there is a statistically significant difference between the expected frequencies and the observed frequencies in one or more categories of a contingency table.\n",
    "[2]https://en.wikipedia.org/wiki/Chi-squared_test\n",
    "\n",
    " \n",
    "### Steps for doing chi-Square\n",
    "- state our hypotheses. \n",
    "- Lay the data out in a table.\n",
    "- Add up rows and columns.\n",
    "- Calculate \"Expected Value\" for each entry by multiply each row total by each column total and divide by the overall total.\n",
    "- use formula  $\\frac{(O−E)^2}{E}$  where\n",
    " O = Observed (actual) value\n",
    " E = Expected value\n",
    " \n",
    " p-value = degrees of freedom and expected table\n",
    " \n",
    "- Now add up those calculated values\n",
    " \n",
    " \n"
   ]
  },
  {
   "cell_type": "code",
   "execution_count": 6,
   "metadata": {},
   "outputs": [
    {
     "name": "stdout",
     "output_type": "stream",
     "text": [
      "Chi2 value is: 24.5712028585826\n",
      "p value is : 0.0004098425861096696\n",
      "Dependent (reject H0)\n"
     ]
    }
   ],
   "source": [
    "from scipy.stats import chi2_contingency \n",
    "  \n",
    "# defining the table \n",
    "data = [[90, 60, 104, 95], [30, 50, 51, 20], [30, 40, 45, 35]] \n",
    "Chi2, p, dof, expected = chi2_contingency(data) \n",
    "  \n",
    "# interpret p-value \n",
    "alpha = 0.1\n",
    "\n",
    "# Printing the Chi-Squared-Value\n",
    "print(\"Chi2 value is:\", Chi2)\n",
    "# Printing the p-Value\n",
    "print(\"p value is : \" + str(p)) \n",
    "if p <= alpha: \n",
    "    print('Dependent (reject H0)') \n",
    "else: \n",
    "    print('Independent (H0 holds true)')\n",
    "\n",
    "\n",
    "\n"
   ]
  },
  {
   "cell_type": "markdown",
   "metadata": {},
   "source": [
    "# Tasks 3\n",
    "The standard deviation of an array of numbers x is\n",
    "calculated using numpy as np.sqrt(np.sum((x - np.mean(x))**2)/len(x)) .\n",
    "However, Microsoft Excel has two different versions of the standard deviation\n",
    "calculation, STDEV.P and STDEV.S . The STDEV.P function performs the above\n",
    "calculation but in the STDEV.S calculation the division is by len(x)-1 rather\n",
    "than len(x) . Research these Excel functions, writing a note in a Markdown cell\n",
    "about the difference between them. Then use numpy to perform a simulation\n",
    "demonstrating that the STDEV.S calculation is a better estimate for the standard\n",
    "deviation of a population when performed on a sample. Note that part of this task\n",
    "is to figure out the terminology in the previous sentence\n",
    "\n",
    "***"
   ]
  },
  {
   "cell_type": "markdown",
   "metadata": {},
   "source": [
    "The author is Muhammad Noman Junaid (G00351754@gmit.ie)."
   ]
  },
  {
   "cell_type": "markdown",
   "metadata": {},
   "source": [
    "### Research \n",
    "\n",
    "#### What is Standard Deviation? \n",
    "Standard deviation is the measure of how spread out the numbers in the data are. It is the square root of variance, where variance is the average of squared differences from the mean.[1]\n",
    "\n",
    "#### Calculating the standard deviation using Excel\n",
    "Excel has two functions to calculate statndard deviation..[2]\n",
    "\n",
    "#### STDEV.S\n",
    "Estimates standard deviation based on a sample.[3]\n",
    "\n",
    "#### STDEV.P\n",
    "Calculates standard deviation based on the entire population given as arguments.[4]\n",
    "\n",
    "#### STDEV.P vs STDEV.S \n",
    "So, what are the difference in STDEV.P and STDEV.S function? Let’s Explore.[5]\n",
    "\n",
    "In STDEV.P function, the squared deviation is divided by the total number of arguments, mostly represented as N.\n",
    "\n",
    "In STDEV.S or STDEV, the squared deviation is divided by the total number of sample -1. It is represented as N-1.\n",
    "\n",
    "The appropriate commands are entered into the formula bar towards the top of the spreadsheet and the corresponding cells in the spreadsheet are updated to show the result.\n",
    "\n",
    "[1] https://www150.statcan.gc.ca/n1/edu/power-pouvoir/ch12/5214891-eng.htm#:~:text=Standard%20deviation%20(S)%20%3D%20square,measures%20spread%20around%20the%20mean.\n",
    "\n",
    "[2] https://www.ablebits.com/office-addins-blog/2017/05/31/calculate-standard-deviation-excel/#:~:text=To%20calculate%20standard%20deviation%20based%20on%20a%20numeric%20sample%2C%20use,in%20Excel%202007%20and%20earlier.\n",
    "\n",
    "[3] https://support.microsoft.com/en-us/office/stdev-s-function-7d69cf97-0c1f-4acf-be27-f3e83904cc23#:~:text=S%20function,-Excel%20for%20Microsoft&text=Estimates%20standard%20deviation%20based%20on,average%20value%20(the%20mean)\n",
    "\n",
    "[4] https://support.microsoft.com/en-us/office/stdev-p-function-6e917c05-31a0-496f-ade7-4f4e7462f285#:~:text=P%20function,-Excel%20for%20Microsoft&text=Calculates%20standard%20deviation%20based%20on,average%20value%20(the%20mean)\n",
    "\n",
    "[5] https://www.exceltip.com/statistical-formulas/how-to-use-excel-stdev-p-function.html#:~:text=Let's%20Explore.-,The%20STDEV.,sample%20of%20the%20entire%20population.\n",
    "\n",
    "[6] https://www.javatpoint.com/numpy-std\n",
    "\n"
   ]
  },
  {
   "cell_type": "markdown",
   "metadata": {},
   "source": [
    "### numpy Standard Deviation\n",
    "\n",
    "The numpy module of Python provides a function called numpy.std(), used to compute the standard deviation along the specified axis. This function returns the standard deviation of the array elements. The square root of the average square deviation (computed from the mean), is known as the standard deviation. By default, the standard deviation is calculated for the flattened array. With the help of the x.sum()/N, the average square deviation is normally calculated, and here, N=len(x).[6]\n",
    "\n",
    "Standard Deviation=sqrt(mean(abs(x-x.mean( ))**2"
   ]
  },
  {
   "cell_type": "markdown",
   "metadata": {},
   "source": [
    "### Syntax:\n",
    "numpy.std(a, axis=None, dtype=None, out=None, ddof=0, keepdims=<classnumpy._globals._NoValue>)\n",
    "\n",
    "### Parameters\n",
    "\n",
    "#### a: array_like\n",
    "This parameter defines the source array whose elements standard deviation is calculated.\n",
    "\n",
    "#### axis: None, int, or tuple of ints(optional)\n",
    "\n",
    "It is the axis along which the standard deviation is calculated. The standard deviation of the flattened array is computed by default. If it is a tuple of ints, performs standard deviation over multiple axis instead of a single axis or all axis as before.\n",
    "\n",
    "#### dtype : data_type(optional)\n",
    "\n",
    "This parameter defines the data type, which is used in computing the standard deviation. By default, the data type is float64 for integer type arrays, and, for float types array, it will be the same as the array type.\n",
    "\n",
    "#### out : ndarray(optional)\n",
    "\n",
    "This parameter defines the alternative output array in which the result is to be placed. This alternative ndarray has the same shape as the expected output. But we cast the type when necessary.\n",
    "\n",
    "#### ddof : int(optional)\n",
    "\n",
    "This parameter defines the Delta Degrees of Freedom. The N-ddof divisor is used in calculations, where N is the number of elements. By default, the value of this parameter is set to 0.\n",
    "\n",
    "#### keepdims : bool(optional)\n",
    "\n",
    "It is optional, whose value, when true, will leave the reduced axis as dimensions with size one in the resultant. When it passes the default value, it will allow the non-default values to pass via the mean method of sub-classes of ndarray, but the keepdims will not pass. Also, the output or the result will broadcast against the input array correctly.\n",
    "\n",
    "#### Returns\n",
    "This function will return a new array that contains the standard deviation. If we do not set the 'out' parameter to None, it returns the output array's reference.\n",
    "\n"
   ]
  },
  {
   "cell_type": "code",
   "execution_count": 45,
   "metadata": {},
   "outputs": [
    {
     "data": {
      "text/plain": [
       "3.391164991562634"
      ]
     },
     "execution_count": 45,
     "metadata": {},
     "output_type": "execute_result"
    }
   ],
   "source": [
    "#### Example 1:\n",
    "\n",
    "import numpy as np \n",
    "a=np.array([[1,4,7,10],[2,5,8,11]])  \n",
    "b=np.std(a)  \n",
    "b "
   ]
  },
  {
   "cell_type": "markdown",
   "metadata": {},
   "source": [
    "In the above code\n",
    "\n",
    "We have imported numpy with alias name np.\n",
    "\n",
    "We have created an array 'a' via array() function.\n",
    "\n",
    "We have declared the variable 'b' and assigned the returned value of std() function.\n",
    "\n",
    "We have passed the array 'a' in the function\n",
    "\n",
    "print the value of 'b'.\n",
    "\n",
    "In the output, an array containing standard deviation has been shown."
   ]
  },
  {
   "cell_type": "code",
   "execution_count": 46,
   "metadata": {},
   "outputs": [
    {
     "data": {
      "text/plain": [
       "array([0.5, 0.5, 0.5, 0.5])"
      ]
     },
     "execution_count": 46,
     "metadata": {},
     "output_type": "execute_result"
    }
   ],
   "source": [
    "#### Example 2:\n",
    "a=np.array([[1,4,7,10],[2,5,8,11]])  \n",
    "b=np.std(a, axis=0)  \n",
    "b "
   ]
  },
  {
   "cell_type": "markdown",
   "metadata": {},
   "source": [
    "Lastly, we tried to print the value of 'b'.\n",
    "\n",
    "In the output of example 2, an array containing standard deviation has been shown."
   ]
  },
  {
   "cell_type": "code",
   "execution_count": 47,
   "metadata": {},
   "outputs": [
    {
     "data": {
      "text/plain": [
       "array([3.35410197, 3.35410197])"
      ]
     },
     "execution_count": 47,
     "metadata": {},
     "output_type": "execute_result"
    }
   ],
   "source": [
    "#### Example 3:\n",
    "a=np.array([[1,4,7,10],[2,5,8,11]])  \n",
    "b=np.std(a, axis=1)  \n",
    "b "
   ]
  },
  {
   "cell_type": "code",
   "execution_count": 48,
   "metadata": {},
   "outputs": [
    {
     "data": {
      "text/plain": [
       "0.45000008"
      ]
     },
     "execution_count": 48,
     "metadata": {},
     "output_type": "execute_result"
    }
   ],
   "source": [
    "#### Example 4:\n",
    " \n",
    "a = np.zeros((2, 512*512), dtype=np.float32)  \n",
    "a[1, :] = 1.0  \n",
    "a[0, :] = 0.1  \n",
    "b=np.std(a)  \n",
    "b"
   ]
  },
  {
   "cell_type": "markdown",
   "metadata": {},
   "source": [
    "In the above code\n",
    "\n",
    "We have imported numpy with alias name np.\n",
    "\n",
    "We have created an array 'a' using np.zeros() function with data type np.float32.\n",
    "\n",
    "We have assigned the value 0.1 to the elements of the 1st row and 1.0 to the elements of the second row.\n",
    "\n",
    "We have passed the array 'a' in the function\n",
    "\n",
    "Lastly, we tried to print the value of 'b'.\n",
    "\n",
    "In the output, the standard deviation has been shown, which can be inaccurate."
   ]
  },
  {
   "cell_type": "code",
   "execution_count": 49,
   "metadata": {},
   "outputs": [
    {
     "data": {
      "text/plain": [
       "0.4499999992549418"
      ]
     },
     "execution_count": 49,
     "metadata": {},
     "output_type": "execute_result"
    }
   ],
   "source": [
    "#### Example 5:\n",
    "\n",
    "a = np.zeros((2, 512*512), dtype=np.float32)  \n",
    "a[1, :] = 1.0  \n",
    "a[0, :] = 0.1  \n",
    "b=np.std(a ,dtype=np.float64)  \n",
    "b  "
   ]
  },
  {
   "cell_type": "code",
   "execution_count": null,
   "metadata": {},
   "outputs": [],
   "source": []
  }
 ],
 "metadata": {
  "kernelspec": {
   "display_name": "Python 3",
   "language": "python",
   "name": "python3"
  },
  "language_info": {
   "codemirror_mode": {
    "name": "ipython",
    "version": 3
   },
   "file_extension": ".py",
   "mimetype": "text/x-python",
   "name": "python",
   "nbconvert_exporter": "python",
   "pygments_lexer": "ipython3",
   "version": "3.8.3"
  }
 },
 "nbformat": 4,
 "nbformat_minor": 4
}
