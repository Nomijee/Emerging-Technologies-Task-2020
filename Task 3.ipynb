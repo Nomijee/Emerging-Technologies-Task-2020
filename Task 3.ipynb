{
 "cells": [
  {
   "cell_type": "markdown",
   "metadata": {},
   "source": [
    "# Tasks 3\n",
    "The standard deviation of an array of numbers x is\n",
    "calculated using numpy as np.sqrt(np.sum((x - np.mean(x))**2)/len(x)) .\n",
    "However, Microsoft Excel has two different versions of the standard deviation\n",
    "calculation, STDEV.P and STDEV.S . The STDEV.P function performs the above\n",
    "calculation but in the STDEV.S calculation the division is by len(x)-1 rather\n",
    "than len(x) . Research these Excel functions, writing a note in a Markdown cell\n",
    "about the difference between them. Then use numpy to perform a simulation\n",
    "demonstrating that the STDEV.S calculation is a better estimate for the standard\n",
    "deviation of a population when performed on a sample. Note that part of this task\n",
    "is to figure out the terminology in the previous sentence\n",
    "\n",
    "***"
   ]
  },
  {
   "cell_type": "markdown",
   "metadata": {},
   "source": [
    "The author is Muhammad Noman Junaid (G00351754@gmit.ie)."
   ]
  },
  {
   "cell_type": "markdown",
   "metadata": {},
   "source": [
    "### Research \n",
    "\n",
    "##### What is Standard Deviation ?\n",
    "Standard deviation is the measure of how spread out the numbers in the data are. It is the square root of variance, where variance is the average of squared differences from the mean.[1]\n",
    "\n",
    "#### Calculating the standard deviation using Excel\n",
    "Excel has two functions to calculate statndard deviation..[2]\n",
    "\n",
    "#### STDEV.S\n",
    "Estimates standard deviation based on a sample.[3]\n",
    "\n",
    "#### STDEV.P\n",
    "Calculates standard deviation based on the entire population given as arguments.[4]\n",
    "\n",
    "#### STDEV.P vs STDEV.S \n",
    "So, what are the difference in STDEV.P and STDEV.S function? Let’s Explore.[5]\n",
    "\n",
    "In STDEV.P function, the squared deviation is divided by the total number of arguments, mostly represented as N.\n",
    "\n",
    "In STDEV.S or STDEV, the squared deviation is divided by the total number of sample -1. It is represented as N-1.\n",
    "\n",
    "The appropriate commands are entered into the formula bar towards the top of the spreadsheet and the corresponding cells in the spreadsheet are updated to show the result.\n",
    "\n",
    "[1] https://www150.statcan.gc.ca/n1/edu/power-pouvoir/ch12/5214891-eng.htm#:~:text=Standard%20deviation%20(S)%20%3D%20square,measures%20spread%20around%20the%20mean.\n",
    "\n",
    "[2] https://www.ablebits.com/office-addins-blog/2017/05/31/calculate-standard-deviation-excel/#:~:text=To%20calculate%20standard%20deviation%20based%20on%20a%20numeric%20sample%2C%20use,in%20Excel%202007%20and%20earlier.\n",
    "\n",
    "[3] https://support.microsoft.com/en-us/office/stdev-s-function-7d69cf97-0c1f-4acf-be27-f3e83904cc23#:~:text=S%20function,-Excel%20for%20Microsoft&text=Estimates%20standard%20deviation%20based%20on,average%20value%20(the%20mean)\n",
    "\n",
    "[4] https://support.microsoft.com/en-us/office/stdev-p-function-6e917c05-31a0-496f-ade7-4f4e7462f285#:~:text=P%20function,-Excel%20for%20Microsoft&text=Calculates%20standard%20deviation%20based%20on,average%20value%20(the%20mean)\n",
    "\n",
    "[5] https://www.exceltip.com/statistical-formulas/how-to-use-excel-stdev-p-function.html#:~:text=Let's%20Explore.-,The%20STDEV.,sample%20of%20the%20entire%20population.\n",
    "\n"
   ]
  },
  {
   "cell_type": "code",
   "execution_count": null,
   "metadata": {},
   "outputs": [],
   "source": []
  },
  {
   "cell_type": "code",
   "execution_count": null,
   "metadata": {},
   "outputs": [],
   "source": []
  }
 ],
 "metadata": {
  "kernelspec": {
   "display_name": "Python 3",
   "language": "python",
   "name": "python3"
  },
  "language_info": {
   "codemirror_mode": {
    "name": "ipython",
    "version": 3
   },
   "file_extension": ".py",
   "mimetype": "text/x-python",
   "name": "python",
   "nbconvert_exporter": "python",
   "pygments_lexer": "ipython3",
   "version": "3.8.3"
  }
 },
 "nbformat": 4,
 "nbformat_minor": 4
}
