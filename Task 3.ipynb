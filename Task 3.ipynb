{
 "cells": [
  {
   "cell_type": "markdown",
   "metadata": {},
   "source": [
    "# Tasks 3\n",
    "The standard deviation of an array of numbers x is\n",
    "calculated using numpy as np.sqrt(np.sum((x - np.mean(x))**2)/len(x)) .\n",
    "However, Microsoft Excel has two different versions of the standard deviation\n",
    "calculation, STDEV.P and STDEV.S . The STDEV.P function performs the above\n",
    "calculation but in the STDEV.S calculation the division is by len(x)-1 rather\n",
    "than len(x) . Research these Excel functions, writing a note in a Markdown cell\n",
    "about the difference between them. Then use numpy to perform a simulation\n",
    "demonstrating that the STDEV.S calculation is a better estimate for the standard\n",
    "deviation of a population when performed on a sample. Note that part of this task\n",
    "is to figure out the terminology in the previous sentence\n",
    "\n",
    "***"
   ]
  },
  {
   "cell_type": "markdown",
   "metadata": {},
   "source": [
    "The author is Muhammad Noman Junaid (G00351754@gmit.ie)."
   ]
  },
  {
   "cell_type": "markdown",
   "metadata": {},
   "source": [
    "### Research \n",
    "\n",
    "#### What is Standard Deviation? \n",
    "Standard deviation is the measure of how spread out the numbers in the data are. It is the square root of variance, where variance is the average of squared differences from the mean.[1]\n",
    "\n",
    "#### Calculating the standard deviation using Excel\n",
    "Excel has two functions to calculate statndard deviation..[2]\n",
    "\n",
    "#### STDEV.S\n",
    "Estimates standard deviation based on a sample.[3]\n",
    "\n",
    "#### STDEV.P\n",
    "Calculates standard deviation based on the entire population given as arguments.[4]\n",
    "\n",
    "#### STDEV.P vs STDEV.S \n",
    "So, what are the difference in STDEV.P and STDEV.S function? Let’s Explore.[5]\n",
    "\n",
    "In STDEV.P function, the squared deviation is divided by the total number of arguments, mostly represented as N.\n",
    "\n",
    "In STDEV.S or STDEV, the squared deviation is divided by the total number of sample -1. It is represented as N-1.\n",
    "\n",
    "The appropriate commands are entered into the formula bar towards the top of the spreadsheet and the corresponding cells in the spreadsheet are updated to show the result."
   ]
  },
  {
   "cell_type": "markdown",
   "metadata": {},
   "source": [
    "### numpy Standard Deviation\n",
    "\n",
    "The numpy module of Python provides a function called numpy.std(), used to compute the standard deviation along the specified axis. This function returns the standard deviation of the array elements. The square root of the average square deviation (computed from the mean), is known as the standard deviation. By default, the standard deviation is calculated for the flattened array. With the help of the x.sum()/N, the average square deviation is normally calculated, and here, N=len(x).[6]\n",
    "\n",
    "Standard Deviation=sqrt(mean(abs(x-x.mean( ))**2"
   ]
  },
  {
   "cell_type": "markdown",
   "metadata": {},
   "source": [
    "### Syntax:\n",
    "numpy.std(a, axis=None, dtype=None, out=None, ddof=0, keepdims=<classnumpy._globals._NoValue>)\n",
    "\n",
    "### Parameters\n",
    "\n",
    "#### a: array_like\n",
    "This parameter defines the source array whose elements standard deviation is calculated.\n",
    "\n",
    "#### axis: None, int, or tuple of ints(optional)\n",
    "\n",
    "It is the axis along which the standard deviation is calculated. The standard deviation of the flattened array is computed by default. If it is a tuple of ints, performs standard deviation over multiple axis instead of a single axis or all axis as before.\n",
    "\n",
    "#### dtype : data_type(optional)\n",
    "\n",
    "This parameter defines the data type, which is used in computing the standard deviation. By default, the data type is float64 for integer type arrays, and, for float types array, it will be the same as the array type.\n",
    "\n",
    "#### out : ndarray(optional)\n",
    "\n",
    "This parameter defines the alternative output array in which the result is to be placed. This alternative ndarray has the same shape as the expected output. But we cast the type when necessary.\n",
    "\n",
    "#### ddof : int(optional)\n",
    "\n",
    "This parameter defines the Delta Degrees of Freedom. The N-ddof divisor is used in calculations, where N is the number of elements. By default, the value of this parameter is set to 0.\n",
    "\n",
    "#### keepdims : bool(optional)\n",
    "\n",
    "It is optional, whose value, when true, will leave the reduced axis as dimensions with size one in the resultant. When it passes the default value, it will allow the non-default values to pass via the mean method of sub-classes of ndarray, but the keepdims will not pass. Also, the output or the result will broadcast against the input array correctly.\n",
    "\n",
    "#### Returns\n",
    "This function will return a new array that contains the standard deviation. If we do not set the 'out' parameter to None, it returns the output array's reference.\n",
    "\n"
   ]
  },
  {
   "cell_type": "code",
   "execution_count": 45,
   "metadata": {},
   "outputs": [
    {
     "data": {
      "text/plain": [
       "3.391164991562634"
      ]
     },
     "execution_count": 45,
     "metadata": {},
     "output_type": "execute_result"
    }
   ],
   "source": [
    "#### Example 1:\n",
    "\n",
    "import numpy as np \n",
    "a=np.array([[1,4,7,10],[2,5,8,11]])  \n",
    "b=np.std(a)  \n",
    "b "
   ]
  },
  {
   "cell_type": "markdown",
   "metadata": {},
   "source": [
    "In the above code\n",
    "\n",
    "We have imported numpy with alias name np.\n",
    "\n",
    "We have created an array 'a' via array() function.\n",
    "\n",
    "We have declared the variable 'b' and assigned the returned value of std() function.\n",
    "\n",
    "We have passed the array 'a' in the function\n",
    "\n",
    "print the value of 'b'.\n",
    "\n",
    "In the output, an array containing standard deviation has been shown."
   ]
  },
  {
   "cell_type": "code",
   "execution_count": 46,
   "metadata": {},
   "outputs": [
    {
     "data": {
      "text/plain": [
       "array([0.5, 0.5, 0.5, 0.5])"
      ]
     },
     "execution_count": 46,
     "metadata": {},
     "output_type": "execute_result"
    }
   ],
   "source": [
    "#### Example 2:\n",
    "a=np.array([[1,4,7,10],[2,5,8,11]])  \n",
    "b=np.std(a, axis=0)  \n",
    "b "
   ]
  },
  {
   "cell_type": "markdown",
   "metadata": {},
   "source": [
    "Lastly, we tried to print the value of 'b'.\n",
    "\n",
    "In the output of example 2, an array containing standard deviation has been shown."
   ]
  },
  {
   "cell_type": "code",
   "execution_count": 47,
   "metadata": {},
   "outputs": [
    {
     "data": {
      "text/plain": [
       "array([3.35410197, 3.35410197])"
      ]
     },
     "execution_count": 47,
     "metadata": {},
     "output_type": "execute_result"
    }
   ],
   "source": [
    "#### Example 3:\n",
    "a=np.array([[1,4,7,10],[2,5,8,11]])  \n",
    "b=np.std(a, axis=1)  \n",
    "b "
   ]
  },
  {
   "cell_type": "code",
   "execution_count": 48,
   "metadata": {},
   "outputs": [
    {
     "data": {
      "text/plain": [
       "0.45000008"
      ]
     },
     "execution_count": 48,
     "metadata": {},
     "output_type": "execute_result"
    }
   ],
   "source": [
    "#### Example 4:\n",
    " \n",
    "a = np.zeros((2, 512*512), dtype=np.float32)  \n",
    "a[1, :] = 1.0  \n",
    "a[0, :] = 0.1  \n",
    "b=np.std(a)  \n",
    "b"
   ]
  },
  {
   "cell_type": "markdown",
   "metadata": {},
   "source": [
    "In the above code\n",
    "\n",
    "We have imported numpy with alias name np.\n",
    "\n",
    "We have created an array 'a' using np.zeros() function with data type np.float32.\n",
    "\n",
    "We have assigned the value 0.1 to the elements of the 1st row and 1.0 to the elements of the second row.\n",
    "\n",
    "We have passed the array 'a' in the function\n",
    "\n",
    "Lastly, we tried to print the value of 'b'.\n",
    "\n",
    "In the output, the standard deviation has been shown, which can be inaccurate."
   ]
  },
  {
   "cell_type": "code",
   "execution_count": 49,
   "metadata": {},
   "outputs": [
    {
     "data": {
      "text/plain": [
       "0.4499999992549418"
      ]
     },
     "execution_count": 49,
     "metadata": {},
     "output_type": "execute_result"
    }
   ],
   "source": [
    "#### Example 5:\n",
    "\n",
    "a = np.zeros((2, 512*512), dtype=np.float32)  \n",
    "a[1, :] = 1.0  \n",
    "a[0, :] = 0.1  \n",
    "b=np.std(a ,dtype=np.float64)  \n",
    "b  "
   ]
  },
  {
   "cell_type": "markdown",
   "metadata": {},
   "source": [
    "#### Refrences\n",
    "[1] https://www150.statcan.gc.ca/n1/edu/power-pouvoir/ch12/5214891-eng.htm#:~:text=Standard%20deviation%20(S)%20%3D%20square,measures%20spread%20around%20the%20mean.\n",
    "\n",
    "[2] https://www.ablebits.com/office-addins-blog/2017/05/31/calculate-standard-deviation-excel/#:~:text=To%20calculate%20standard%20deviation%20based%20on%20a%20numeric%20sample%2C%20use,in%20Excel%202007%20and%20earlier.\n",
    "\n",
    "[3] https://support.microsoft.com/en-us/office/stdev-s-function-7d69cf97-0c1f-4acf-be27-f3e83904cc23#:~:text=S%20function,-Excel%20for%20Microsoft&text=Estimates%20standard%20deviation%20based%20on,average%20value%20(the%20mean)\n",
    "\n",
    "[4] https://support.microsoft.com/en-us/office/stdev-p-function-6e917c05-31a0-496f-ade7-4f4e7462f285#:~:text=P%20function,-Excel%20for%20Microsoft&text=Calculates%20standard%20deviation%20based%20on,average%20value%20(the%20mean)\n",
    "\n",
    "[5] https://www.exceltip.com/statistical-formulas/how-to-use-excel-stdev-p-function.html#:~:text=Let's%20Explore.-,The%20STDEV.,sample%20of%20the%20entire%20population.\n",
    "\n",
    "[6] https://www.javatpoint.com/numpy-std"
   ]
  },
  {
   "cell_type": "code",
   "execution_count": null,
   "metadata": {},
   "outputs": [],
   "source": []
  }
 ],
 "metadata": {
  "kernelspec": {
   "display_name": "Python 3",
   "language": "python",
   "name": "python3"
  },
  "language_info": {
   "codemirror_mode": {
    "name": "ipython",
    "version": 3
   },
   "file_extension": ".py",
   "mimetype": "text/x-python",
   "name": "python",
   "nbconvert_exporter": "python",
   "pygments_lexer": "ipython3",
   "version": "3.8.3"
  }
 },
 "nbformat": 4,
 "nbformat_minor": 4
}
